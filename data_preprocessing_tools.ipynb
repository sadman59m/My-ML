{
  "nbformat": 4,
  "nbformat_minor": 0,
  "metadata": {
    "colab": {
      "provenance": [],
      "authorship_tag": "ABX9TyNagsj/ti8HCknPbn26R4Cd"
    },
    "kernelspec": {
      "name": "python3",
      "display_name": "Python 3"
    },
    "language_info": {
      "name": "python"
    }
  },
  "cells": [
    {
      "cell_type": "markdown",
      "source": [
        "# Importing Libraries"
      ],
      "metadata": {
        "id": "2uItvV_6rFH9"
      }
    },
    {
      "cell_type": "code",
      "execution_count": null,
      "metadata": {
        "id": "j_oNf2Aiqm58"
      },
      "outputs": [],
      "source": [
        "import numpy as np\n",
        "import matplotlib.pyplot as plt\n",
        "import pandas as pd"
      ]
    },
    {
      "cell_type": "code",
      "source": [
        "dataset = pd.read_csv('Data.csv')\n",
        "# X is the independent or featuer , Y is the dependent variable\n",
        "# in the X, the the firest 3 cols with all rows\n",
        "X = dataset.iloc[:, :-1].values\n",
        "# Y the last col with all rows\n",
        "Y = dataset.iloc[:, -1].values"
      ],
      "metadata": {
        "id": "eDhXuQAnrXs6"
      },
      "execution_count": null,
      "outputs": []
    },
    {
      "cell_type": "code",
      "source": [
        "print(X)\n",
        "print(Y)"
      ],
      "metadata": {
        "id": "1p180Zngv2Fw"
      },
      "execution_count": null,
      "outputs": []
    },
    {
      "cell_type": "markdown",
      "source": [
        "# Handling Missing Values\n",
        "Generally we replace the missing values with average of all values. We do this in numerical columns"
      ],
      "metadata": {
        "id": "5MNApHEJ06kI"
      }
    },
    {
      "cell_type": "code",
      "source": [
        "# use scikit learn to perform it\n",
        "from sklearn.impute import SimpleImputer\n",
        "# np.nan means the numpy nun values\n",
        "imputer = SimpleImputer(missing_values=np.nan, strategy='mean')\n",
        "# pass all the cols of X with numerical values\n",
        "# in X, 2nd and 3rd cols with all the rows\n",
        "imputer.fit(X[:, 1:3])\n",
        "# replace the X with new transformed X cols. The values are replaced with average\n",
        "X[: , 1:3] = imputer.transform(X[:, 1:3])\n",
        "print(X)"
      ],
      "metadata": {
        "id": "dGoqKuziwBM1"
      },
      "execution_count": null,
      "outputs": []
    },
    {
      "cell_type": "markdown",
      "source": [
        "# Encoding Categorycal Data\n",
        "Means representing the Text Data colums with numeircal Data."
      ],
      "metadata": {
        "id": "lRN3lUj34ZMT"
      }
    },
    {
      "cell_type": "markdown",
      "source": [
        "Encoding Indepent Variable \\\n",
        "here, France, Spain, Gernamy\\\n",
        "Values are assigned as 0.0 0.1 1.0 to prevent squilization of 0, 1, 2 which will mislead the model"
      ],
      "metadata": {
        "id": "MtSLy_sd4kzQ"
      }
    },
    {
      "cell_type": "code",
      "source": [
        "from sklearn.compose import ColumnTransformer\n",
        "from sklearn.preprocessing import OneHotEncoder\n",
        "\n",
        "# transformers is an array, where the last arg is the column to encode. [0] means 1st one\n",
        "# passthrough is used to keep all the other columns\n",
        "ct = ColumnTransformer(transformers=[('encoder', OneHotEncoder(), [0])], remainder='passthrough')\n",
        "\n",
        "# make the transformed array as numpy array, which is expected by ML models\n",
        "X = np.array(ct.fit_transform(X))\n",
        "print(X)"
      ],
      "metadata": {
        "id": "E1OdiNmo3WVB"
      },
      "execution_count": null,
      "outputs": []
    },
    {
      "cell_type": "markdown",
      "source": [
        "Encoding Dependent Variable, yes and no"
      ],
      "metadata": {
        "id": "V0lUkJqssW9S"
      }
    },
    {
      "cell_type": "code",
      "source": [
        "from sklearn.preprocessing import LabelEncoder\n",
        "le = LabelEncoder()\n",
        "Y = le.fit_transform(Y)\n",
        "print(Y)"
      ],
      "metadata": {
        "colab": {
          "base_uri": "https://localhost:8080/"
        },
        "id": "bY75NLGGsSzf",
        "outputId": "b272abc0-32a1-420a-c492-6ca4ccbae2aa"
      },
      "execution_count": 22,
      "outputs": [
        {
          "output_type": "stream",
          "name": "stdout",
          "text": [
            "[0 1 0 0 1 1 0 1 0 1]\n"
          ]
        }
      ]
    }
  ]
}